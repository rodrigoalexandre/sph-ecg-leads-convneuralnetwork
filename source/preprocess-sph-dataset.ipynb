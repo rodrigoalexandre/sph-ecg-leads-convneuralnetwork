{
 "cells": [
  {
   "cell_type": "markdown",
   "id": "f47f0bdf",
   "metadata": {},
   "source": [
    "#### Preprocess the SHP dataset."
   ]
  },
  {
   "cell_type": "markdown",
   "id": "6b4dcd61",
   "metadata": {},
   "source": [
    "#### Import necessary libraries."
   ]
  },
  {
   "cell_type": "code",
   "execution_count": 1,
   "id": "44296a43",
   "metadata": {},
   "outputs": [],
   "source": [
    "\n",
    "import warnings\n",
    "import dask.dataframe as dd\n",
    "import numpy as np\n",
    "import pandas as pd\n",
    "import seaborn as sns\n"
   ]
  },
  {
   "cell_type": "markdown",
   "id": "e0cd4ff4",
   "metadata": {},
   "source": [
    "#### Load the dataset."
   ]
  },
  {
   "cell_type": "code",
   "execution_count": 2,
   "id": "3607dcbe",
   "metadata": {},
   "outputs": [
    {
     "name": "stdout",
     "output_type": "stream",
     "text": [
      "\n",
      "Start loading CSV file...\n",
      "\n",
      "Finish loading CSV file...\n"
     ]
    }
   ],
   "source": [
    "\n",
    "df = None\n",
    "\n",
    "column_names = [\"idx\", \"ecg_id\", \"lead1\", \"lead2\", \"lead3\", \"aVR\", \"aVL\", \"aVF\",\n",
    "                \"V1\", \"V2\", \"V3\", \"V4\", \"V5\", \"V6\", \"arrhythmia_code\"]\n",
    "dtypes = {\"ecg_id\": \"str\", \"lead1\" : \"float64\", \"lead2\" : \"float64\", \"lead3\" : \"float64\", \"aVR\" : \"float64\", \"aVL\" : \"float64\",\n",
    "          \"aVF\" : \"float64\", \"V1\" : \"float64\", \"V2\" : \"float64\", \"V3\" : \"float64\", \"V4\" : \"float64\",\n",
    "          \"V5\" : \"float64\", \"V6\" : \"float64\", \"arrhythmia_code\" : \"int16\"}\n",
    "\n",
    "try:\n",
    "    print(\"\\nStart loading CSV file...\")\n",
    "    df = dd.read_csv(\"../dataset/csv_files/ecg_sph_dataset.csv\", sep=\"|\", dtype = dtypes)\n",
    "    df = df.drop(columns = [\"idx\"])\n",
    "    print(\"\\nFinish loading CSV file...\")\n",
    "except Exception as e:\n",
    "    print(\"\\nFail to load CSV file.\")\n",
    "    print(\"Error: {}\".format(e))\n"
   ]
  },
  {
   "cell_type": "markdown",
   "id": "9bb29b14",
   "metadata": {},
   "source": [
    "#### Display dataset size."
   ]
  },
  {
   "cell_type": "code",
   "execution_count": 3,
   "id": "2aaa7fae",
   "metadata": {},
   "outputs": [
    {
     "data": {
      "text/plain": [
       "(128850000, 14)"
      ]
     },
     "execution_count": 3,
     "metadata": {},
     "output_type": "execute_result"
    }
   ],
   "source": [
    "\n",
    "df.compute().shape\n"
   ]
  },
  {
   "cell_type": "markdown",
   "id": "84160098",
   "metadata": {},
   "source": [
    "#### Display dataset data types."
   ]
  },
  {
   "cell_type": "code",
   "execution_count": 4,
   "id": "57902a96",
   "metadata": {},
   "outputs": [
    {
     "data": {
      "text/plain": [
       "ecg_id              object\n",
       "lead1              float64\n",
       "lead2              float64\n",
       "lead3              float64\n",
       "aVR                float64\n",
       "aVL                float64\n",
       "aVF                float64\n",
       "V1                 float64\n",
       "V2                 float64\n",
       "V3                 float64\n",
       "V4                 float64\n",
       "V5                 float64\n",
       "V6                 float64\n",
       "arrhythmia_code      int16\n",
       "dtype: object"
      ]
     },
     "execution_count": 4,
     "metadata": {},
     "output_type": "execute_result"
    }
   ],
   "source": [
    "\n",
    "df.dtypes\n"
   ]
  },
  {
   "cell_type": "markdown",
   "id": "6f0f0c8f",
   "metadata": {},
   "source": [
    "#### Display the first rows of the dataset."
   ]
  },
  {
   "cell_type": "code",
   "execution_count": 5,
   "id": "594b3180",
   "metadata": {},
   "outputs": [
    {
     "data": {
      "text/html": [
       "<div>\n",
       "<style scoped>\n",
       "    .dataframe tbody tr th:only-of-type {\n",
       "        vertical-align: middle;\n",
       "    }\n",
       "\n",
       "    .dataframe tbody tr th {\n",
       "        vertical-align: top;\n",
       "    }\n",
       "\n",
       "    .dataframe thead th {\n",
       "        text-align: right;\n",
       "    }\n",
       "</style>\n",
       "<table border=\"1\" class=\"dataframe\">\n",
       "  <thead>\n",
       "    <tr style=\"text-align: right;\">\n",
       "      <th></th>\n",
       "      <th>ecg_id</th>\n",
       "      <th>lead1</th>\n",
       "      <th>lead2</th>\n",
       "      <th>lead3</th>\n",
       "      <th>aVR</th>\n",
       "      <th>aVL</th>\n",
       "      <th>aVF</th>\n",
       "      <th>V1</th>\n",
       "      <th>V2</th>\n",
       "      <th>V3</th>\n",
       "      <th>V4</th>\n",
       "      <th>V5</th>\n",
       "      <th>V6</th>\n",
       "      <th>arrhythmia_code</th>\n",
       "    </tr>\n",
       "  </thead>\n",
       "  <tbody>\n",
       "    <tr>\n",
       "      <th>0</th>\n",
       "      <td>A00001</td>\n",
       "      <td>0.0216064453125000</td>\n",
       "      <td>0.1303710937500</td>\n",
       "      <td>0.10882568359375</td>\n",
       "      <td>-0.07598876953125</td>\n",
       "      <td>-0.043212890625000</td>\n",
       "      <td>0.11999511718750</td>\n",
       "      <td>-0.0111999511718750</td>\n",
       "      <td>-0.0064010620117187</td>\n",
       "      <td>-0.0351867675781250</td>\n",
       "      <td>-0.054412841796875</td>\n",
       "      <td>-0.037597656250000</td>\n",
       "      <td>-0.062408447265625</td>\n",
       "      <td>22</td>\n",
       "    </tr>\n",
       "    <tr>\n",
       "      <th>1</th>\n",
       "      <td>A00001</td>\n",
       "      <td>0.0216064453125000</td>\n",
       "      <td>0.1319580078125</td>\n",
       "      <td>0.10961914062500</td>\n",
       "      <td>-0.07678222656250</td>\n",
       "      <td>-0.044006347656250</td>\n",
       "      <td>0.12078857421875</td>\n",
       "      <td>-0.0120010375976562</td>\n",
       "      <td>-0.0103988647460937</td>\n",
       "      <td>-0.0335998535156250</td>\n",
       "      <td>-0.054412841796875</td>\n",
       "      <td>-0.036804199218750</td>\n",
       "      <td>-0.062408447265625</td>\n",
       "      <td>22</td>\n",
       "    </tr>\n",
       "    <tr>\n",
       "      <th>2</th>\n",
       "      <td>A00001</td>\n",
       "      <td>0.0207977294921875</td>\n",
       "      <td>0.1319580078125</td>\n",
       "      <td>0.11120605468750</td>\n",
       "      <td>-0.07678222656250</td>\n",
       "      <td>-0.044799804687500</td>\n",
       "      <td>0.12158203125000</td>\n",
       "      <td>-0.0111999511718750</td>\n",
       "      <td>-0.0136032104492187</td>\n",
       "      <td>-0.0312042236328125</td>\n",
       "      <td>-0.052795410156250</td>\n",
       "      <td>-0.036804199218750</td>\n",
       "      <td>-0.062408447265625</td>\n",
       "      <td>22</td>\n",
       "    </tr>\n",
       "    <tr>\n",
       "      <th>3</th>\n",
       "      <td>A00001</td>\n",
       "      <td>0.0184020996093750</td>\n",
       "      <td>0.1328125000000</td>\n",
       "      <td>0.11358642578125</td>\n",
       "      <td>-0.07598876953125</td>\n",
       "      <td>-0.047210693359375</td>\n",
       "      <td>0.12322998046875</td>\n",
       "      <td>-0.0103988647460937</td>\n",
       "      <td>-0.0151977539062500</td>\n",
       "      <td>-0.0272064208984375</td>\n",
       "      <td>-0.051208496093750</td>\n",
       "      <td>-0.036804199218750</td>\n",
       "      <td>-0.063171386718750</td>\n",
       "      <td>22</td>\n",
       "    </tr>\n",
       "    <tr>\n",
       "      <th>4</th>\n",
       "      <td>A00001</td>\n",
       "      <td>0.0160064697265625</td>\n",
       "      <td>0.1335449218750</td>\n",
       "      <td>0.11682128906250</td>\n",
       "      <td>-0.07440185546875</td>\n",
       "      <td>-0.050415039062500</td>\n",
       "      <td>0.12561035156250</td>\n",
       "      <td>-0.0080032348632812</td>\n",
       "      <td>-0.0167999267578125</td>\n",
       "      <td>-0.0223999023437500</td>\n",
       "      <td>-0.048797607421875</td>\n",
       "      <td>-0.035186767578125</td>\n",
       "      <td>-0.064025878906250</td>\n",
       "      <td>22</td>\n",
       "    </tr>\n",
       "  </tbody>\n",
       "</table>\n",
       "</div>"
      ],
      "text/plain": [
       "   ecg_id               lead1            lead2             lead3  \\\n",
       "0  A00001  0.0216064453125000  0.1303710937500  0.10882568359375   \n",
       "1  A00001  0.0216064453125000  0.1319580078125  0.10961914062500   \n",
       "2  A00001  0.0207977294921875  0.1319580078125  0.11120605468750   \n",
       "3  A00001  0.0184020996093750  0.1328125000000  0.11358642578125   \n",
       "4  A00001  0.0160064697265625  0.1335449218750  0.11682128906250   \n",
       "\n",
       "                aVR                aVL               aVF                  V1  \\\n",
       "0 -0.07598876953125 -0.043212890625000  0.11999511718750 -0.0111999511718750   \n",
       "1 -0.07678222656250 -0.044006347656250  0.12078857421875 -0.0120010375976562   \n",
       "2 -0.07678222656250 -0.044799804687500  0.12158203125000 -0.0111999511718750   \n",
       "3 -0.07598876953125 -0.047210693359375  0.12322998046875 -0.0103988647460937   \n",
       "4 -0.07440185546875 -0.050415039062500  0.12561035156250 -0.0080032348632812   \n",
       "\n",
       "                   V2                  V3                 V4  \\\n",
       "0 -0.0064010620117187 -0.0351867675781250 -0.054412841796875   \n",
       "1 -0.0103988647460937 -0.0335998535156250 -0.054412841796875   \n",
       "2 -0.0136032104492187 -0.0312042236328125 -0.052795410156250   \n",
       "3 -0.0151977539062500 -0.0272064208984375 -0.051208496093750   \n",
       "4 -0.0167999267578125 -0.0223999023437500 -0.048797607421875   \n",
       "\n",
       "                  V5                 V6  arrhythmia_code  \n",
       "0 -0.037597656250000 -0.062408447265625               22  \n",
       "1 -0.036804199218750 -0.062408447265625               22  \n",
       "2 -0.036804199218750 -0.062408447265625               22  \n",
       "3 -0.036804199218750 -0.063171386718750               22  \n",
       "4 -0.035186767578125 -0.064025878906250               22  "
      ]
     },
     "execution_count": 5,
     "metadata": {},
     "output_type": "execute_result"
    }
   ],
   "source": [
    "\n",
    "pd.set_option(\"display.precision\", 16)\n",
    "df.head()\n"
   ]
  },
  {
   "cell_type": "markdown",
   "id": "bd614fa4",
   "metadata": {},
   "source": [
    "#### Display dataset statistics."
   ]
  },
  {
   "cell_type": "code",
   "execution_count": 6,
   "id": "2e584809",
   "metadata": {},
   "outputs": [
    {
     "data": {
      "text/html": [
       "<div>\n",
       "<style scoped>\n",
       "    .dataframe tbody tr th:only-of-type {\n",
       "        vertical-align: middle;\n",
       "    }\n",
       "\n",
       "    .dataframe tbody tr th {\n",
       "        vertical-align: top;\n",
       "    }\n",
       "\n",
       "    .dataframe thead th {\n",
       "        text-align: right;\n",
       "    }\n",
       "</style>\n",
       "<table border=\"1\" class=\"dataframe\">\n",
       "  <thead>\n",
       "    <tr style=\"text-align: right;\">\n",
       "      <th></th>\n",
       "      <th>lead1</th>\n",
       "      <th>lead2</th>\n",
       "      <th>lead3</th>\n",
       "      <th>aVR</th>\n",
       "      <th>aVL</th>\n",
       "      <th>aVF</th>\n",
       "      <th>V1</th>\n",
       "      <th>V2</th>\n",
       "      <th>V3</th>\n",
       "      <th>V4</th>\n",
       "      <th>V5</th>\n",
       "      <th>V6</th>\n",
       "      <th>arrhythmia_code</th>\n",
       "    </tr>\n",
       "  </thead>\n",
       "  <tbody>\n",
       "    <tr>\n",
       "      <th>count</th>\n",
       "      <td>128850000.000</td>\n",
       "      <td>128850000.000</td>\n",
       "      <td>128850000.000</td>\n",
       "      <td>128850000.000</td>\n",
       "      <td>128850000.000</td>\n",
       "      <td>128850000.000</td>\n",
       "      <td>128850000.000</td>\n",
       "      <td>128850000.000</td>\n",
       "      <td>128850000.000</td>\n",
       "      <td>128850000.000</td>\n",
       "      <td>128850000.000</td>\n",
       "      <td>128850000.000</td>\n",
       "      <td>128850000.000</td>\n",
       "    </tr>\n",
       "    <tr>\n",
       "      <th>mean</th>\n",
       "      <td>-0.000</td>\n",
       "      <td>0.000</td>\n",
       "      <td>0.000</td>\n",
       "      <td>-0.000</td>\n",
       "      <td>-0.000</td>\n",
       "      <td>0.000</td>\n",
       "      <td>-0.002</td>\n",
       "      <td>-0.001</td>\n",
       "      <td>-0.002</td>\n",
       "      <td>-0.002</td>\n",
       "      <td>-0.002</td>\n",
       "      <td>-0.002</td>\n",
       "      <td>35.589</td>\n",
       "    </tr>\n",
       "    <tr>\n",
       "      <th>std</th>\n",
       "      <td>0.243</td>\n",
       "      <td>0.139</td>\n",
       "      <td>0.243</td>\n",
       "      <td>0.156</td>\n",
       "      <td>0.233</td>\n",
       "      <td>0.156</td>\n",
       "      <td>0.554</td>\n",
       "      <td>1.151</td>\n",
       "      <td>1.286</td>\n",
       "      <td>0.825</td>\n",
       "      <td>0.957</td>\n",
       "      <td>1.497</td>\n",
       "      <td>51.926</td>\n",
       "    </tr>\n",
       "    <tr>\n",
       "      <th>min</th>\n",
       "      <td>-52.219</td>\n",
       "      <td>-17.375</td>\n",
       "      <td>-572.000</td>\n",
       "      <td>-285.500</td>\n",
       "      <td>-52.500</td>\n",
       "      <td>-285.750</td>\n",
       "      <td>-277.250</td>\n",
       "      <td>-1006.000</td>\n",
       "      <td>-1016.500</td>\n",
       "      <td>-704.500</td>\n",
       "      <td>-854.000</td>\n",
       "      <td>-1146.000</td>\n",
       "      <td>1.000</td>\n",
       "    </tr>\n",
       "    <tr>\n",
       "      <th>25%</th>\n",
       "      <td>-0.034</td>\n",
       "      <td>-0.046</td>\n",
       "      <td>-0.025</td>\n",
       "      <td>-0.008</td>\n",
       "      <td>-0.018</td>\n",
       "      <td>-0.032</td>\n",
       "      <td>-0.011</td>\n",
       "      <td>-0.046</td>\n",
       "      <td>-0.066</td>\n",
       "      <td>-0.075</td>\n",
       "      <td>-0.068</td>\n",
       "      <td>-0.056</td>\n",
       "      <td>1.000</td>\n",
       "    </tr>\n",
       "    <tr>\n",
       "      <th>50%</th>\n",
       "      <td>-0.014</td>\n",
       "      <td>-0.017</td>\n",
       "      <td>0.000</td>\n",
       "      <td>0.026</td>\n",
       "      <td>-0.002</td>\n",
       "      <td>-0.008</td>\n",
       "      <td>0.022</td>\n",
       "      <td>0.006</td>\n",
       "      <td>-0.014</td>\n",
       "      <td>-0.028</td>\n",
       "      <td>-0.031</td>\n",
       "      <td>-0.026</td>\n",
       "      <td>22.000</td>\n",
       "    </tr>\n",
       "    <tr>\n",
       "      <th>75%</th>\n",
       "      <td>0.016</td>\n",
       "      <td>0.026</td>\n",
       "      <td>0.026</td>\n",
       "      <td>0.050</td>\n",
       "      <td>0.020</td>\n",
       "      <td>0.022</td>\n",
       "      <td>0.060</td>\n",
       "      <td>0.086</td>\n",
       "      <td>0.059</td>\n",
       "      <td>0.036</td>\n",
       "      <td>0.024</td>\n",
       "      <td>0.018</td>\n",
       "      <td>125.000</td>\n",
       "    </tr>\n",
       "    <tr>\n",
       "      <th>max</th>\n",
       "      <td>573.000</td>\n",
       "      <td>15.820</td>\n",
       "      <td>52.812</td>\n",
       "      <td>25.812</td>\n",
       "      <td>573.000</td>\n",
       "      <td>26.688</td>\n",
       "      <td>626.500</td>\n",
       "      <td>559.500</td>\n",
       "      <td>622.000</td>\n",
       "      <td>618.000</td>\n",
       "      <td>501.000</td>\n",
       "      <td>828.500</td>\n",
       "      <td>166.000</td>\n",
       "    </tr>\n",
       "  </tbody>\n",
       "</table>\n",
       "</div>"
      ],
      "text/plain": [
       "              lead1         lead2         lead3           aVR           aVL  \\\n",
       "count 128850000.000 128850000.000 128850000.000 128850000.000 128850000.000   \n",
       "mean         -0.000         0.000         0.000        -0.000        -0.000   \n",
       "std           0.243         0.139         0.243         0.156         0.233   \n",
       "min         -52.219       -17.375      -572.000      -285.500       -52.500   \n",
       "25%          -0.034        -0.046        -0.025        -0.008        -0.018   \n",
       "50%          -0.014        -0.017         0.000         0.026        -0.002   \n",
       "75%           0.016         0.026         0.026         0.050         0.020   \n",
       "max         573.000        15.820        52.812        25.812       573.000   \n",
       "\n",
       "                aVF            V1            V2            V3            V4  \\\n",
       "count 128850000.000 128850000.000 128850000.000 128850000.000 128850000.000   \n",
       "mean          0.000        -0.002        -0.001        -0.002        -0.002   \n",
       "std           0.156         0.554         1.151         1.286         0.825   \n",
       "min        -285.750      -277.250     -1006.000     -1016.500      -704.500   \n",
       "25%          -0.032        -0.011        -0.046        -0.066        -0.075   \n",
       "50%          -0.008         0.022         0.006        -0.014        -0.028   \n",
       "75%           0.022         0.060         0.086         0.059         0.036   \n",
       "max          26.688       626.500       559.500       622.000       618.000   \n",
       "\n",
       "                 V5            V6  arrhythmia_code  \n",
       "count 128850000.000 128850000.000    128850000.000  \n",
       "mean         -0.002        -0.002           35.589  \n",
       "std           0.957         1.497           51.926  \n",
       "min        -854.000     -1146.000            1.000  \n",
       "25%          -0.068        -0.056            1.000  \n",
       "50%          -0.031        -0.026           22.000  \n",
       "75%           0.024         0.018          125.000  \n",
       "max         501.000       828.500          166.000  "
      ]
     },
     "execution_count": 6,
     "metadata": {},
     "output_type": "execute_result"
    }
   ],
   "source": [
    "\n",
    "df = df.drop(columns = [\"ecg_id\"])\n",
    "pd.set_option('display.float_format', lambda x: '%.3f' % x)\n",
    "df.describe().compute()\n"
   ]
  },
  {
   "cell_type": "markdown",
   "id": "9bb6d672",
   "metadata": {},
   "source": [
    "#### Check for missing data."
   ]
  },
  {
   "cell_type": "code",
   "execution_count": 8,
   "id": "cd86dd07",
   "metadata": {},
   "outputs": [
    {
     "name": "stdout",
     "output_type": "stream",
     "text": [
      "<class 'dask.dataframe.core.DataFrame'>\n",
      "Index: 128850000 entries, 0 to 274303\n",
      "Data columns (total 13 columns):\n",
      " #   Column           Non-Null Count  Dtype\n",
      "---  ------           --------------  -----\n",
      " 0   lead1            128850000 non-null      float64\n",
      " 1   lead2            128850000 non-null      float64\n",
      " 2   lead3            128850000 non-null      float64\n",
      " 3   aVR              128850000 non-null      float64\n",
      " 4   aVL              128850000 non-null      float64\n",
      " 5   aVF              128850000 non-null      float64\n",
      " 6   V1               128850000 non-null      float64\n",
      " 7   V2               128850000 non-null      float64\n",
      " 8   V3               128850000 non-null      float64\n",
      " 9   V4               128850000 non-null      float64\n",
      "10   V5               128850000 non-null      float64\n",
      "11   V6               128850000 non-null      float64\n",
      "12   arrhythmia_code  128850000 non-null      int16\n",
      "dtypes: float64(12), int16(1)\n",
      "memory usage: 11.8 GB\n"
     ]
    }
   ],
   "source": [
    "\n",
    "df.info(verbose = True)\n"
   ]
  },
  {
   "cell_type": "markdown",
   "id": "0400a994",
   "metadata": {},
   "source": [
    "\n",
    "#### Check for skewness.\n"
   ]
  },
  {
   "cell_type": "code",
   "execution_count": 9,
   "id": "06fd3bc3",
   "metadata": {},
   "outputs": [
    {
     "data": {
      "text/plain": [
       "lead1              1328.123\n",
       "lead2                -0.504\n",
       "lead3             -1322.843\n",
       "aVR                -624.924\n",
       "aVL                1505.720\n",
       "aVF                -624.883\n",
       "V1                  474.870\n",
       "V2                 -169.419\n",
       "V3                  -88.185\n",
       "V4                  210.849\n",
       "V5                 -131.622\n",
       "V6                  -11.211\n",
       "arrhythmia_code       1.316\n",
       "dtype: float64"
      ]
     },
     "execution_count": 9,
     "metadata": {},
     "output_type": "execute_result"
    }
   ],
   "source": [
    "\n",
    "df.skew().compute()\n"
   ]
  },
  {
   "cell_type": "markdown",
   "id": "f4654437",
   "metadata": {},
   "source": [
    "#### Check for kurtosis."
   ]
  },
  {
   "cell_type": "code",
   "execution_count": 10,
   "id": "bddbe30c",
   "metadata": {},
   "outputs": [
    {
     "data": {
      "text/plain": [
       "lead1             2685193.053\n",
       "lead2                 496.022\n",
       "lead3             2661075.195\n",
       "aVR                984716.674\n",
       "aVL               3169260.441\n",
       "aVF                973723.078\n",
       "V1                 457993.434\n",
       "V2                 199325.968\n",
       "V3                 147437.222\n",
       "V4                 216492.585\n",
       "V5                 139920.472\n",
       "V6                  54436.510\n",
       "arrhythmia_code         0.125\n",
       "dtype: float64"
      ]
     },
     "execution_count": 10,
     "metadata": {},
     "output_type": "execute_result"
    }
   ],
   "source": [
    "\n",
    "df.kurtosis().compute()\n"
   ]
  },
  {
   "cell_type": "markdown",
   "id": "b1fe22ca",
   "metadata": {},
   "source": [
    "#### Generate the correlation matrix between the features."
   ]
  },
  {
   "cell_type": "code",
   "execution_count": 11,
   "id": "812f0c42",
   "metadata": {},
   "outputs": [
    {
     "name": "stdout",
     "output_type": "stream",
     "text": [
      "                 lead1  lead2  lead3    aVR    aVL    aVF     V1     V2  \\\n",
      "lead1            1.000  0.282 -0.838 -0.904  0.959 -0.527 -0.186 -0.049   \n",
      "lead2            0.282  1.000  0.288 -0.665 -0.003  0.667 -0.119 -0.007   \n",
      "lead3           -0.838  0.288  1.000  0.524 -0.959  0.905  0.118  0.045   \n",
      "aVR             -0.904 -0.665  0.524  1.000 -0.745  0.113  0.198  0.041   \n",
      "aVL              0.959 -0.003 -0.959 -0.745  1.000 -0.747 -0.159 -0.049   \n",
      "aVF             -0.527  0.667  0.905  0.113 -0.747  1.000  0.039  0.031   \n",
      "V1              -0.186 -0.119  0.118  0.198 -0.159  0.039  1.000  0.124   \n",
      "V2              -0.049 -0.007  0.045  0.041 -0.049  0.031  0.124  1.000   \n",
      "V3              -0.001  0.075  0.044 -0.032 -0.024  0.067  0.061  0.060   \n",
      "V4               0.009  0.194  0.102 -0.093 -0.049  0.165  0.078  0.072   \n",
      "V5              -0.005  0.224  0.132 -0.096 -0.072  0.202  0.012  0.031   \n",
      "V6              -0.025  0.118  0.092 -0.033 -0.061  0.123  0.026  0.009   \n",
      "arrhythmia_code -0.000  0.000  0.000  0.000 -0.000  0.000  0.000  0.000   \n",
      "\n",
      "                    V3     V4     V5     V6  arrhythmia_code  \n",
      "lead1           -0.001  0.009 -0.005 -0.025           -0.000  \n",
      "lead2            0.075  0.194  0.224  0.118            0.000  \n",
      "lead3            0.044  0.102  0.132  0.092            0.000  \n",
      "aVR             -0.032 -0.093 -0.096 -0.033            0.000  \n",
      "aVL             -0.024 -0.049 -0.072 -0.061           -0.000  \n",
      "aVF              0.067  0.165  0.202  0.123            0.000  \n",
      "V1               0.061  0.078  0.012  0.026            0.000  \n",
      "V2               0.060  0.072  0.031  0.009            0.000  \n",
      "V3               1.000  0.157  0.046  0.019            0.000  \n",
      "V4               0.157  1.000 -0.068  0.016            0.000  \n",
      "V5               0.046 -0.068  1.000  0.171            0.001  \n",
      "V6               0.019  0.016  0.171  1.000            0.001  \n",
      "arrhythmia_code  0.000  0.000  0.001  0.001            1.000  \n"
     ]
    }
   ],
   "source": [
    "\n",
    "correlation_matrix = df.corr(numeric_only = True).compute()\n",
    "print(correlation_matrix)\n"
   ]
  },
  {
   "cell_type": "markdown",
   "id": "623b978e-79e8-4483-abdc-b7331acee27a",
   "metadata": {},
   "source": [
    "#### Show correlation ranking."
   ]
  },
  {
   "cell_type": "code",
   "execution_count": 12,
   "id": "18ccf56b-299f-44c6-bde8-7c653664c892",
   "metadata": {},
   "outputs": [
    {
     "name": "stdout",
     "output_type": "stream",
     "text": [
      "aVF              aVF               1.000\n",
      "aVR              aVR               1.000\n",
      "V5               V5                1.000\n",
      "V6               V6                1.000\n",
      "V2               V2                1.000\n",
      "V4               V4                1.000\n",
      "arrhythmia_code  arrhythmia_code   1.000\n",
      "aVL              aVL               1.000\n",
      "V3               V3                1.000\n",
      "lead2            lead2             1.000\n",
      "lead3            lead3             1.000\n",
      "V1               V1                1.000\n",
      "lead1            lead1             1.000\n",
      "aVL              lead3             0.959\n",
      "lead3            aVL               0.959\n",
      "aVL              lead1             0.959\n",
      "lead1            aVL               0.959\n",
      "aVF              lead3             0.905\n",
      "lead3            aVF               0.905\n",
      "lead1            aVR               0.904\n",
      "aVR              lead1             0.904\n",
      "lead3            lead1             0.838\n",
      "lead1            lead3             0.838\n",
      "aVL              aVF               0.747\n",
      "aVF              aVL               0.747\n",
      "aVL              aVR               0.745\n",
      "aVR              aVL               0.745\n",
      "lead2            aVF               0.667\n",
      "aVF              lead2             0.667\n",
      "aVR              lead2             0.665\n",
      "dtype: float64\n"
     ]
    }
   ],
   "source": [
    "\n",
    "correlation_ranking = correlation_matrix.abs().unstack().sort_values(ascending = False)\n",
    "print(correlation_ranking[:30])\n"
   ]
  },
  {
   "cell_type": "markdown",
   "id": "071d9ad5",
   "metadata": {},
   "source": [
    "#### Generate the lead1 feature bloxplot."
   ]
  },
  {
   "cell_type": "code",
   "execution_count": 13,
   "id": "4c0cda6f",
   "metadata": {},
   "outputs": [
    {
     "data": {
      "text/plain": [
       "<Axes: xlabel='lead1'>"
      ]
     },
     "execution_count": 13,
     "metadata": {},
     "output_type": "execute_result"
    },
    {
     "data": {
      "image/png": "[encoded data removed]",
      "text/plain": [
       "<Figure size 640x480 with 1 Axes>"
      ]
     },
     "metadata": {},
     "output_type": "display_data"
    }
   ],
   "source": [
    "\n",
    "sns.boxplot(x = df[\"lead1\"])\n"
   ]
  },
  {
   "cell_type": "markdown",
   "id": "78c3e460",
   "metadata": {},
   "source": [
    "#### Generate the lead2 feature bloxplot."
   ]
  },
  {
   "cell_type": "code",
   "execution_count": 14,
   "id": "03d232c0",
   "metadata": {},
   "outputs": [
    {
     "data": {
      "text/plain": [
       "<Axes: xlabel='lead2'>"
      ]
     },
     "execution_count": 14,
     "metadata": {},
     "output_type": "execute_result"
    },
    {
     "data": {
      "image/png": "[encoded data removed]",
      "text/plain": [
       "<Figure size 640x480 with 1 Axes>"
      ]
     },
     "metadata": {},
     "output_type": "display_data"
    }
   ],
   "source": [
    "\n",
    "sns.boxplot(x = df[\"lead2\"])\n"
   ]
  },
  {
   "cell_type": "markdown",
   "id": "6b27c65a",
   "metadata": {},
   "source": [
    "#### Generate the lead3 feature bloxplot."
   ]
  },
  {
   "cell_type": "code",
   "execution_count": 15,
   "id": "a43cb6ba",
   "metadata": {},
   "outputs": [
    {
     "data": {
      "text/plain": [
       "<Axes: xlabel='lead3'>"
      ]
     },
     "execution_count": 15,
     "metadata": {},
     "output_type": "execute_result"
    },
    {
     "data": {
      "image/png": "[encoded data removed]",
      "text/plain": [
       "<Figure size 640x480 with 1 Axes>"
      ]
     },
     "metadata": {},
     "output_type": "display_data"
    }
   ],
   "source": [
    "\n",
    "sns.boxplot(x = df[\"lead3\"])\n"
   ]
  },
  {
   "cell_type": "markdown",
   "id": "f5c798be",
   "metadata": {},
   "source": [
    "#### Generate the aVR feature bloxplot."
   ]
  },
  {
   "cell_type": "code",
   "execution_count": 16,
   "id": "ffdd1669",
   "metadata": {},
   "outputs": [
    {
     "data": {
      "text/plain": [
       "<Axes: xlabel='aVR'>"
      ]
     },
     "execution_count": 16,
     "metadata": {},
     "output_type": "execute_result"
    },
    {
     "data": {
      "image/png": "[encoded data removed]",
      "text/plain": [
       "<Figure size 640x480 with 1 Axes>"
      ]
     },
     "metadata": {},
     "output_type": "display_data"
    }
   ],
   "source": [
    "\n",
    "sns.boxplot(x = df[\"aVR\"])\n"
   ]
  },
  {
   "cell_type": "markdown",
   "id": "9a013206",
   "metadata": {},
   "source": [
    "#### Generate the aVL feature bloxplot."
   ]
  },
  {
   "cell_type": "code",
   "execution_count": 7,
   "id": "2a57a9d7",
   "metadata": {},
   "outputs": [
    {
     "data": {
      "text/plain": [
       "<Axes: xlabel='aVL'>"
      ]
     },
     "execution_count": 7,
     "metadata": {},
     "output_type": "execute_result"
    },
    {
     "data": {
      "image/png": "[encoded data removed]",
      "text/plain": [
       "<Figure size 640x480 with 1 Axes>"
      ]
     },
     "metadata": {},
     "output_type": "display_data"
    }
   ],
   "source": [
    "\n",
    "sns.boxplot(x = df[\"aVL\"])\n"
   ]
  },
  {
   "cell_type": "markdown",
   "id": "d6365a2a",
   "metadata": {},
   "source": [
    "#### Generate the aVF feature bloxplot."
   ]
  },
  {
   "cell_type": "code",
   "execution_count": 8,
   "id": "dfbb89cb",
   "metadata": {},
   "outputs": [
    {
     "data": {
      "text/plain": [
       "<Axes: xlabel='aVF'>"
      ]
     },
     "execution_count": 8,
     "metadata": {},
     "output_type": "execute_result"
    },
    {
     "data": {
      "image/png": "[encoded data removed]",
      "text/plain": [
       "<Figure size 640x480 with 1 Axes>"
      ]
     },
     "metadata": {},
     "output_type": "display_data"
    }
   ],
   "source": [
    "\n",
    "sns.boxplot(x = df[\"aVF\"])\n"
   ]
  },
  {
   "cell_type": "markdown",
   "id": "73336ee4",
   "metadata": {},
   "source": [
    "#### Generate the V1 feature bloxplot."
   ]
  },
  {
   "cell_type": "code",
   "execution_count": 9,
   "id": "e466086f",
   "metadata": {},
   "outputs": [
    {
     "data": {
      "text/plain": [
       "<Axes: xlabel='V1'>"
      ]
     },
     "execution_count": 9,
     "metadata": {},
     "output_type": "execute_result"
    },
    {
     "data": {
      "image/png": "[encoded data removed]",
      "text/plain": [
       "<Figure size 640x480 with 1 Axes>"
      ]
     },
     "metadata": {},
     "output_type": "display_data"
    }
   ],
   "source": [
    "\n",
    "sns.boxplot(x = df[\"V1\"])\n"
   ]
  },
  {
   "cell_type": "markdown",
   "id": "a0d12e02",
   "metadata": {},
   "source": [
    "#### Generate the V2 feature bloxplot."
   ]
  },
  {
   "cell_type": "code",
   "execution_count": 10,
   "id": "68a1b68a",
   "metadata": {},
   "outputs": [
    {
     "data": {
      "text/plain": [
       "<Axes: xlabel='V2'>"
      ]
     },
     "execution_count": 10,
     "metadata": {},
     "output_type": "execute_result"
    },
    {
     "data": {
      "image/png": "[encoded data removed]",
      "text/plain": [
       "<Figure size 640x480 with 1 Axes>"
      ]
     },
     "metadata": {},
     "output_type": "display_data"
    }
   ],
   "source": [
    "\n",
    "sns.boxplot(x = df[\"V2\"])\n"
   ]
  },
  {
   "cell_type": "markdown",
   "id": "383ddb06",
   "metadata": {},
   "source": [
    "#### Generate the V3 feature bloxplot."
   ]
  },
  {
   "cell_type": "code",
   "execution_count": 11,
   "id": "c617c025",
   "metadata": {},
   "outputs": [
    {
     "data": {
      "text/plain": [
       "<Axes: xlabel='V3'>"
      ]
     },
     "execution_count": 11,
     "metadata": {},
     "output_type": "execute_result"
    },
    {
     "data": {
      "image/png": "[encoded data removed]",
      "text/plain": [
       "<Figure size 640x480 with 1 Axes>"
      ]
     },
     "metadata": {},
     "output_type": "display_data"
    }
   ],
   "source": [
    "\n",
    "sns.boxplot(x = df[\"V3\"])\n"
   ]
  },
  {
   "cell_type": "markdown",
   "id": "2d391837",
   "metadata": {},
   "source": [
    "#### Generate the V4 feature bloxplot."
   ]
  },
  {
   "cell_type": "code",
   "execution_count": 12,
   "id": "bc32f3e3",
   "metadata": {},
   "outputs": [
    {
     "data": {
      "text/plain": [
       "<Axes: xlabel='V4'>"
      ]
     },
     "execution_count": 12,
     "metadata": {},
     "output_type": "execute_result"
    },
    {
     "data": {
      "image/png": "[encoded data removed]",
      "text/plain": [
       "<Figure size 640x480 with 1 Axes>"
      ]
     },
     "metadata": {},
     "output_type": "display_data"
    }
   ],
   "source": [
    "\n",
    "sns.boxplot(x = df[\"V4\"])\n"
   ]
  },
  {
   "cell_type": "markdown",
   "id": "40dce8bf",
   "metadata": {},
   "source": [
    "#### Generate the V5 feature bloxplot."
   ]
  },
  {
   "cell_type": "code",
   "execution_count": 13,
   "id": "70c76d9e",
   "metadata": {},
   "outputs": [
    {
     "data": {
      "text/plain": [
       "<Axes: xlabel='V5'>"
      ]
     },
     "execution_count": 13,
     "metadata": {},
     "output_type": "execute_result"
    },
    {
     "data": {
      "image/png": "[encoded data removed]",
      "text/plain": [
       "<Figure size 640x480 with 1 Axes>"
      ]
     },
     "metadata": {},
     "output_type": "display_data"
    }
   ],
   "source": [
    "\n",
    "sns.boxplot(x = df[\"V5\"])\n"
   ]
  },
  {
   "cell_type": "markdown",
   "id": "9afa40a1",
   "metadata": {},
   "source": [
    "#### Generate the V6 feature bloxplot."
   ]
  },
  {
   "cell_type": "code",
   "execution_count": 14,
   "id": "672446a2",
   "metadata": {},
   "outputs": [
    {
     "data": {
      "text/plain": [
       "<Axes: xlabel='V6'>"
      ]
     },
     "execution_count": 14,
     "metadata": {},
     "output_type": "execute_result"
    },
    {
     "data": {
      "image/png": "[encoded data removed]",
      "text/plain": [
       "<Figure size 640x480 with 1 Axes>"
      ]
     },
     "metadata": {},
     "output_type": "display_data"
    }
   ],
   "source": [
    "\n",
    "sns.boxplot(x = df[\"V6\"])\n"
   ]
  },
  {
   "cell_type": "markdown",
   "id": "f55181fa",
   "metadata": {},
   "source": [
    "#### Check the balance of the dataset."
   ]
  },
  {
   "cell_type": "code",
   "execution_count": 16,
   "id": "35792f05",
   "metadata": {},
   "outputs": [
    {
     "name": "stdout",
     "output_type": "stream",
     "text": [
      "                 Frequence  Percentage\n",
      "arrhythmia_code                       \n",
      "1                 69525000      53.960\n",
      "22                13295000      10.320\n",
      "147                6670000       5.180\n",
      "23                 5615000       4.360\n",
      "145                5225000       4.060\n",
      "105                4585000       3.560\n",
      "60                 3930000       3.050\n",
      "21                 3615000       2.810\n",
      "50                 3315000       2.570\n",
      "146                2700000       2.100\n",
      "106                2365000       1.840\n",
      "30                 1920000       1.490\n",
      "125                1005000       0.780\n",
      "120                 610000       0.470\n",
      "121                 555000       0.430\n",
      "82                  490000       0.380\n",
      "142                 480000       0.370\n",
      "51                  470000       0.360\n",
      "161                 385000       0.300\n",
      "101                 385000       0.300\n",
      "165                 320000       0.250\n",
      "104                 310000       0.240\n",
      "36                  220000       0.170\n",
      "160                 175000       0.140\n",
      "155                 140000       0.110\n",
      "108                 110000       0.090\n",
      "88                  100000       0.080\n",
      "54                   60000       0.050\n",
      "80                   45000       0.030\n",
      "83                   40000       0.030\n",
      "140                  35000       0.030\n",
      "166                  35000       0.030\n",
      "102                  25000       0.020\n",
      "148                  20000       0.020\n",
      "31                   20000       0.020\n",
      "152                  15000       0.010\n",
      "87                   15000       0.010\n",
      "37                   10000       0.010\n",
      "84                   10000       0.010\n",
      "143                   5000       0.000\n"
     ]
    }
   ],
   "source": [
    "\n",
    "class_counts = df[\"arrhythmia_code\"].value_counts()\n",
    "total_instances = class_counts.sum().compute()\n",
    "class_percentages = (class_counts / total_instances * 100).round(2)\n",
    "class_info = dd.concat([class_counts, class_percentages], axis = 1)\n",
    "class_info.columns = [\"Frequence\", \"Percentage\"]\n",
    "class_info_sorted = class_info.compute().sort_values(by = \"Frequence\", ascending = False)\n",
    "print(class_info_sorted)\n"
   ]
  },
  {
   "cell_type": "markdown",
   "id": "70f9e5ba",
   "metadata": {},
   "source": [
    "#### Conclusions:\n",
    "- There is no missing or inconsistent data.\n",
    "- Features have values on different scales. This is an indication that it may be necessary to normalize or resize the values.\n",
    "- The skewness analysis shows that all features have an asymmetric distribution. This is an indication that it may be necessary to use dataset balancing techniques.\n",
    "- The kurtosis analysis and the generated boxplots show that all features have outliers. This is an indication that it may be necessary to eliminate outliers from the dataset, if possible in this context, or use a Machine Learning model that can better deal with outliers if they were kept in the dataset.\n",
    "- The dataset is quite unbalanced. There are classes that have less than 1% of instances. This is an indication that the use of balancing techniques or an alternative for regrouping instances into classes of greater granularity should be considered.\n"
   ]
  },
  {
   "cell_type": "code",
   "execution_count": null,
   "id": "9299419b",
   "metadata": {},
   "outputs": [],
   "source": []
  }
 ],
 "metadata": {
  "kernelspec": {
   "display_name": "Python 3 (ipykernel)",
   "language": "python",
   "name": "python3"
  },
  "language_info": {
   "codemirror_mode": {
    "name": "ipython",
    "version": 3
   },
   "file_extension": ".py",
   "mimetype": "text/x-python",
   "name": "python",
   "nbconvert_exporter": "python",
   "pygments_lexer": "ipython3",
   "version": "3.10.13"
  },
  "varInspector": {
   "cols": {
    "lenName": 16,
    "lenType": 16,
    "lenVar": 40
   },
   "kernels_config": {
    "python": {
     "delete_cmd_postfix": "",
     "delete_cmd_prefix": "del ",
     "library": "var_list.py",
     "varRefreshCmd": "print(var_dic_list())"
    },
    "r": {
     "delete_cmd_postfix": ") ",
     "delete_cmd_prefix": "rm(",
     "library": "var_list.r",
     "varRefreshCmd": "cat(var_dic_list()) "
    }
   },
   "types_to_exclude": [
    "module",
    "function",
    "builtin_function_or_method",
    "instance",
    "_Feature"
   ],
   "window_display": false
  }
 },
 "nbformat": 4,
 "nbformat_minor": 5
}
